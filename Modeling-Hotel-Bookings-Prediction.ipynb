{
 "cells": [
  {
   "cell_type": "code",
   "execution_count": 1,
   "metadata": {},
   "outputs": [],
   "source": [
    "import pandas as pd\n",
    "import numpy as np\n",
    "\n",
    "import matplotlib.pyplot as plt\n",
    "import seaborn as sns\n",
    "%matplotlib inline"
   ]
  },
  {
   "cell_type": "code",
   "execution_count": 2,
   "metadata": {},
   "outputs": [
    {
     "data": {
      "text/html": [
       "<div>\n",
       "<style scoped>\n",
       "    .dataframe tbody tr th:only-of-type {\n",
       "        vertical-align: middle;\n",
       "    }\n",
       "\n",
       "    .dataframe tbody tr th {\n",
       "        vertical-align: top;\n",
       "    }\n",
       "\n",
       "    .dataframe thead th {\n",
       "        text-align: right;\n",
       "    }\n",
       "</style>\n",
       "<table border=\"1\" class=\"dataframe\">\n",
       "  <thead>\n",
       "    <tr style=\"text-align: right;\">\n",
       "      <th></th>\n",
       "      <th>hotel</th>\n",
       "      <th>is_canceled</th>\n",
       "      <th>lead_time</th>\n",
       "      <th>arrival_date_year</th>\n",
       "      <th>arrival_date_month</th>\n",
       "      <th>arrival_date_week_number</th>\n",
       "      <th>arrival_date_day_of_month</th>\n",
       "      <th>stays_in_weekend_nights</th>\n",
       "      <th>stays_in_week_nights</th>\n",
       "      <th>adults</th>\n",
       "      <th>...</th>\n",
       "      <th>is_repeated_guest</th>\n",
       "      <th>previous_cancellations</th>\n",
       "      <th>previous_bookings_not_canceled</th>\n",
       "      <th>reserved_room_type</th>\n",
       "      <th>assigned_room_type</th>\n",
       "      <th>booking_changes</th>\n",
       "      <th>customer_type</th>\n",
       "      <th>adr</th>\n",
       "      <th>required_car_parking_spaces</th>\n",
       "      <th>total_of_special_requests</th>\n",
       "    </tr>\n",
       "  </thead>\n",
       "  <tbody>\n",
       "    <tr>\n",
       "      <th>0</th>\n",
       "      <td>Resort Hotel</td>\n",
       "      <td>0</td>\n",
       "      <td>342</td>\n",
       "      <td>1</td>\n",
       "      <td>July</td>\n",
       "      <td>27</td>\n",
       "      <td>1</td>\n",
       "      <td>0</td>\n",
       "      <td>0</td>\n",
       "      <td>2</td>\n",
       "      <td>...</td>\n",
       "      <td>0</td>\n",
       "      <td>0</td>\n",
       "      <td>0</td>\n",
       "      <td>C</td>\n",
       "      <td>C</td>\n",
       "      <td>3</td>\n",
       "      <td>Transient</td>\n",
       "      <td>0.0</td>\n",
       "      <td>0</td>\n",
       "      <td>0</td>\n",
       "    </tr>\n",
       "    <tr>\n",
       "      <th>1</th>\n",
       "      <td>Resort Hotel</td>\n",
       "      <td>0</td>\n",
       "      <td>7</td>\n",
       "      <td>1</td>\n",
       "      <td>July</td>\n",
       "      <td>27</td>\n",
       "      <td>1</td>\n",
       "      <td>0</td>\n",
       "      <td>1</td>\n",
       "      <td>1</td>\n",
       "      <td>...</td>\n",
       "      <td>0</td>\n",
       "      <td>0</td>\n",
       "      <td>0</td>\n",
       "      <td>A</td>\n",
       "      <td>C</td>\n",
       "      <td>0</td>\n",
       "      <td>Transient</td>\n",
       "      <td>75.0</td>\n",
       "      <td>0</td>\n",
       "      <td>0</td>\n",
       "    </tr>\n",
       "    <tr>\n",
       "      <th>2</th>\n",
       "      <td>Resort Hotel</td>\n",
       "      <td>0</td>\n",
       "      <td>13</td>\n",
       "      <td>1</td>\n",
       "      <td>July</td>\n",
       "      <td>27</td>\n",
       "      <td>1</td>\n",
       "      <td>0</td>\n",
       "      <td>1</td>\n",
       "      <td>1</td>\n",
       "      <td>...</td>\n",
       "      <td>0</td>\n",
       "      <td>0</td>\n",
       "      <td>0</td>\n",
       "      <td>A</td>\n",
       "      <td>A</td>\n",
       "      <td>0</td>\n",
       "      <td>Transient</td>\n",
       "      <td>75.0</td>\n",
       "      <td>0</td>\n",
       "      <td>0</td>\n",
       "    </tr>\n",
       "    <tr>\n",
       "      <th>3</th>\n",
       "      <td>Resort Hotel</td>\n",
       "      <td>0</td>\n",
       "      <td>14</td>\n",
       "      <td>1</td>\n",
       "      <td>July</td>\n",
       "      <td>27</td>\n",
       "      <td>1</td>\n",
       "      <td>0</td>\n",
       "      <td>2</td>\n",
       "      <td>2</td>\n",
       "      <td>...</td>\n",
       "      <td>0</td>\n",
       "      <td>0</td>\n",
       "      <td>0</td>\n",
       "      <td>A</td>\n",
       "      <td>A</td>\n",
       "      <td>0</td>\n",
       "      <td>Transient</td>\n",
       "      <td>98.0</td>\n",
       "      <td>0</td>\n",
       "      <td>1</td>\n",
       "    </tr>\n",
       "    <tr>\n",
       "      <th>4</th>\n",
       "      <td>Resort Hotel</td>\n",
       "      <td>0</td>\n",
       "      <td>0</td>\n",
       "      <td>1</td>\n",
       "      <td>July</td>\n",
       "      <td>27</td>\n",
       "      <td>1</td>\n",
       "      <td>0</td>\n",
       "      <td>2</td>\n",
       "      <td>2</td>\n",
       "      <td>...</td>\n",
       "      <td>0</td>\n",
       "      <td>0</td>\n",
       "      <td>0</td>\n",
       "      <td>C</td>\n",
       "      <td>C</td>\n",
       "      <td>0</td>\n",
       "      <td>Transient</td>\n",
       "      <td>107.0</td>\n",
       "      <td>0</td>\n",
       "      <td>0</td>\n",
       "    </tr>\n",
       "  </tbody>\n",
       "</table>\n",
       "<p>5 rows × 24 columns</p>\n",
       "</div>"
      ],
      "text/plain": [
       "          hotel  is_canceled  lead_time  arrival_date_year arrival_date_month  \\\n",
       "0  Resort Hotel            0        342                  1               July   \n",
       "1  Resort Hotel            0          7                  1               July   \n",
       "2  Resort Hotel            0         13                  1               July   \n",
       "3  Resort Hotel            0         14                  1               July   \n",
       "4  Resort Hotel            0          0                  1               July   \n",
       "\n",
       "   arrival_date_week_number  arrival_date_day_of_month  \\\n",
       "0                        27                          1   \n",
       "1                        27                          1   \n",
       "2                        27                          1   \n",
       "3                        27                          1   \n",
       "4                        27                          1   \n",
       "\n",
       "   stays_in_weekend_nights  stays_in_week_nights  adults  ...  \\\n",
       "0                        0                     0       2  ...   \n",
       "1                        0                     1       1  ...   \n",
       "2                        0                     1       1  ...   \n",
       "3                        0                     2       2  ...   \n",
       "4                        0                     2       2  ...   \n",
       "\n",
       "   is_repeated_guest previous_cancellations previous_bookings_not_canceled  \\\n",
       "0                  0                      0                              0   \n",
       "1                  0                      0                              0   \n",
       "2                  0                      0                              0   \n",
       "3                  0                      0                              0   \n",
       "4                  0                      0                              0   \n",
       "\n",
       "  reserved_room_type  assigned_room_type  booking_changes  customer_type  \\\n",
       "0                  C                   C                3      Transient   \n",
       "1                  A                   C                0      Transient   \n",
       "2                  A                   A                0      Transient   \n",
       "3                  A                   A                0      Transient   \n",
       "4                  C                   C                0      Transient   \n",
       "\n",
       "     adr required_car_parking_spaces  total_of_special_requests  \n",
       "0    0.0                           0                          0  \n",
       "1   75.0                           0                          0  \n",
       "2   75.0                           0                          0  \n",
       "3   98.0                           0                          1  \n",
       "4  107.0                           0                          0  \n",
       "\n",
       "[5 rows x 24 columns]"
      ]
     },
     "metadata": {},
     "output_type": "display_data"
    },
    {
     "name": "stdout",
     "output_type": "stream",
     "text": [
      "<class 'pandas.core.frame.DataFrame'>\n",
      "RangeIndex: 85913 entries, 0 to 85912\n",
      "Data columns (total 24 columns):\n",
      " #   Column                          Non-Null Count  Dtype  \n",
      "---  ------                          --------------  -----  \n",
      " 0   hotel                           85913 non-null  object \n",
      " 1   is_canceled                     85913 non-null  int64  \n",
      " 2   lead_time                       85913 non-null  int64  \n",
      " 3   arrival_date_year               85913 non-null  int64  \n",
      " 4   arrival_date_month              85913 non-null  object \n",
      " 5   arrival_date_week_number        85913 non-null  int64  \n",
      " 6   arrival_date_day_of_month       85913 non-null  int64  \n",
      " 7   stays_in_weekend_nights         85913 non-null  int64  \n",
      " 8   stays_in_week_nights            85913 non-null  int64  \n",
      " 9   adults                          85913 non-null  int64  \n",
      " 10  children                        85913 non-null  float64\n",
      " 11  meal                            85913 non-null  object \n",
      " 12  market_segment                  85913 non-null  object \n",
      " 13  distribution_channel            85913 non-null  object \n",
      " 14  is_repeated_guest               85913 non-null  int64  \n",
      " 15  previous_cancellations          85913 non-null  int64  \n",
      " 16  previous_bookings_not_canceled  85913 non-null  int64  \n",
      " 17  reserved_room_type              85913 non-null  object \n",
      " 18  assigned_room_type              85913 non-null  object \n",
      " 19  booking_changes                 85913 non-null  int64  \n",
      " 20  customer_type                   85913 non-null  object \n",
      " 21  adr                             85913 non-null  float64\n",
      " 22  required_car_parking_spaces     85913 non-null  int64  \n",
      " 23  total_of_special_requests       85913 non-null  int64  \n",
      "dtypes: float64(2), int64(14), object(8)\n",
      "memory usage: 15.7+ MB\n",
      "None\n"
     ]
    }
   ],
   "source": [
    "hotel_df = pd.read_csv('hotel.csv')\n",
    "\n",
    "display(hotel_df.head())\n",
    "print(hotel_df.info())"
   ]
  },
  {
   "cell_type": "code",
   "execution_count": 19,
   "metadata": {},
   "outputs": [
    {
     "data": {
      "text/plain": [
       "Text(0, 0.5, 'Total Count')"
      ]
     },
     "execution_count": 19,
     "metadata": {},
     "output_type": "execute_result"
    },
    {
     "data": {
      "image/png": "[encoded data removed]",
      "text/plain": [
       "<Figure size 432x288 with 1 Axes>"
      ]
     },
     "metadata": {},
     "output_type": "display_data"
    }
   ],
   "source": [
    "## Create X (features) and y(response)\n",
    "X_features = hotel_df.drop('is_canceled', axis=1)\n",
    "# display(X_features.head())\n",
    "y_target = hotel_df.is_canceled\n",
    "# display(y_target.head())\n",
    "\n",
    "\n",
    "## is_cancelled\n",
    "\n",
    "plt.figure(figsize=(6, 4))\n",
    "sns.set(style=\"whitegrid\")\n",
    "ax = sns.countplot(x=\"is_canceled\", data=hotel_df)\n",
    "plt.title('Hotel Booking Cancellation')\n",
    "plt.xlabel('Is Canceled?')\n",
    "plt.ylabel('Total Count')\n",
    "\n",
    "# checking frequncy of target classes\n",
    "# y_target.value_counts()"
   ]
  },
  {
   "cell_type": "code",
   "execution_count": 4,
   "metadata": {},
   "outputs": [
    {
     "name": "stdout",
     "output_type": "stream",
     "text": [
      "Dimension of Training Dataset:  (60139, 23)\n",
      "Dimension of Testing Dataset:  (25774, 23)\n"
     ]
    }
   ],
   "source": [
    "# ## Splitiing hotel datasets into training and testing datasets\n",
    "from sklearn.model_selection import train_test_split\n",
    "X_train, X_test, y_train, y_test = train_test_split(X_features, y_target, test_size = 0.3, \n",
    "                                                    random_state=0, stratify=y_target)\n",
    "\n",
    "print (\"Dimension of Training Dataset: \", X_train.shape)\n",
    "print (\"Dimension of Testing Dataset: \", X_test.shape)"
   ]
  },
  {
   "cell_type": "markdown",
   "metadata": {},
   "source": [
    "## List of numerical and categorical columns:"
   ]
  },
  {
   "cell_type": "code",
   "execution_count": 5,
   "metadata": {},
   "outputs": [
    {
     "name": "stdout",
     "output_type": "stream",
     "text": [
      "\n",
      "\n",
      "Numerical Types columns name: \n",
      " ['lead_time', 'arrival_date_year', 'arrival_date_week_number', 'arrival_date_day_of_month', 'stays_in_weekend_nights', 'stays_in_week_nights', 'adults', 'is_repeated_guest', 'previous_cancellations', 'previous_bookings_not_canceled', 'booking_changes', 'required_car_parking_spaces', 'total_of_special_requests', 'children', 'adr']\n",
      "\n",
      "\n",
      "Categorical Types columns name: \n",
      " ['hotel', 'arrival_date_month', 'meal', 'market_segment', 'distribution_channel', 'reserved_room_type', 'assigned_room_type', 'customer_type']\n"
     ]
    }
   ],
   "source": [
    "num_int_type = X_features.select_dtypes(include='int64').columns.tolist()\n",
    "num_float_type = X_features.select_dtypes(include='float64').columns.tolist()\n",
    "\n",
    "num_type = num_int_type + num_float_type\n",
    "print(\"\\n\\nNumerical Types columns name: \\n\", num_type)\n",
    "\n",
    "cat_object_type = X_features.select_dtypes(include='object').columns.tolist()\n",
    "print(\"\\n\\nCategorical Types columns name: \\n\", cat_object_type)"
   ]
  },
  {
   "cell_type": "code",
   "execution_count": 6,
   "metadata": {},
   "outputs": [
    {
     "data": {
      "text/plain": [
       "array([[-0.81262079, -1.76476562,  1.32729096, ...,  0.        ,\n",
       "         1.        ,  0.        ],\n",
       "       [-0.91947547,  1.15112805, -1.37963406, ...,  0.        ,\n",
       "         0.        ,  1.        ],\n",
       "       [ 4.05520353,  1.15112805, -0.50171243, ...,  0.        ,\n",
       "         1.        ,  0.        ],\n",
       "       ...,\n",
       "       [ 0.16094407, -1.76476562,  0.81517001, ...,  0.        ,\n",
       "         1.        ,  0.        ],\n",
       "       [-0.86011176,  1.15112805, -1.37963406, ...,  0.        ,\n",
       "         1.        ,  0.        ],\n",
       "       [ 1.92998267,  1.15112805, -0.79435297, ...,  0.        ,\n",
       "         1.        ,  0.        ]])"
      ]
     },
     "execution_count": 6,
     "metadata": {},
     "output_type": "execute_result"
    }
   ],
   "source": [
    "## Encoding categoirical variables to numeric type - understandable to machine learning model\n",
    "## scaling numerical variables with mean \"0\" and standard devaition \"1\"\n",
    "\n",
    "from sklearn.pipeline import make_pipeline, Pipeline\n",
    "from sklearn.impute import SimpleImputer\n",
    "from sklearn.preprocessing import StandardScaler, OneHotEncoder\n",
    "from sklearn.compose import ColumnTransformer, make_column_transformer\n",
    "\n",
    "\n",
    "# Preprocessing for numerical features:\n",
    "num_transformer = make_pipeline(StandardScaler(),\n",
    "                                SimpleImputer(strategy='constant'))\n",
    "\n",
    "# Preprocessing for categorical features:\n",
    "cat_transformer = make_pipeline(SimpleImputer(strategy='constant'),\n",
    "                                OneHotEncoder(handle_unknown='ignore'))\n",
    "\n",
    "## Transforming both numerical and catergorical columns based preprocessing above\n",
    "column_transformer = make_column_transformer((num_transformer, num_type),\n",
    "                                               (cat_transformer, cat_object_type))\n",
    "\n",
    "column_transformer.fit_transform(X_train)"
   ]
  },
  {
   "cell_type": "markdown",
   "metadata": {},
   "source": [
    "### Model Evaluation"
   ]
  },
  {
   "cell_type": "code",
   "execution_count": 8,
   "metadata": {},
   "outputs": [
    {
     "name": "stdout",
     "output_type": "stream",
     "text": [
      "DT_model cross validation accuarcy score: 0.7486 +/- 0.0043\n",
      "LR_model cross validation accuarcy score: 0.7857 +/- 0.0015\n",
      "GNB_model cross validation accuarcy score: 0.7234 +/- 0.0124\n",
      "MLP_model cross validation accuarcy score: 0.8048 +/- 0.0031\n"
     ]
    }
   ],
   "source": [
    "\"\"\"\n",
    "    Evaluationg models:\n",
    "    - DecisionTreeClassfier()\n",
    "    - LogisticRegression()\n",
    "    - GaussianNB()\n",
    "    - MLPClassifier()\n",
    "    \n",
    "\"\"\"\n",
    "\n",
    "from sklearn.tree import DecisionTreeClassifier # Decision Tree\n",
    "from sklearn.linear_model import LogisticRegression # Logistic Regression\n",
    "from sklearn.naive_bayes import GaussianNB # Naives Bayes\n",
    "from sklearn.neural_network import MLPClassifier # Neural Network\n",
    "\n",
    "\n",
    "from sklearn.model_selection import cross_val_score\n",
    "from sklearn.model_selection import KFold\n",
    "from sklearn.model_selection import StratifiedKFold\n",
    "\n",
    "# split1 = KFold(n_splits=5, shuffle=False, random_state=None)\n",
    "split2 = StratifiedKFold(n_splits=10, shuffle=True, random_state=1)\n",
    "\n",
    "# for train_ix, test_ix in split2.split(X_features, y_target):\n",
    "#     # select rows\n",
    "#     train_X, test_X = X_features.loc[train_ix], X_features.loc[test_ix]\n",
    "#     train_y, test_y = y_target[train_ix], y_target[test_ix]\n",
    "#     # summarize train and test composition\n",
    "#     train_0, train_1 = len(train_y[train_y==0]), len(train_y[train_y==1])\n",
    "#     test_0, test_1 = len(test_y[test_y==0]), len(test_y[test_y==1])\n",
    "#     print('>Train: 0=%d, 1=%d, Test: 0=%d, 1=%d' % (train_0, train_1, test_0, test_1))\n",
    "    \n",
    "    \n",
    "\n",
    "base_models = [(\"DT_model\", DecisionTreeClassifier(random_state=42)),\n",
    "               (\"LR_model\", LogisticRegression(random_state=42,n_jobs=-1)),\n",
    "               (\"GNB_model\", GaussianNB()), \n",
    "               (\"MLP_model\", MLPClassifier(hidden_layer_sizes=(13,13,13), max_iter=500))]\n",
    "             \n",
    "for name, model in base_models:\n",
    "    # pack preprocessing of data and the model in a pipeline:\n",
    "    model_steps = make_pipeline(column_transformer, model)\n",
    "    \n",
    "    # get cross validation score for each model:\n",
    "    cv_results = cross_val_score(model_steps, \n",
    "                                 X_train, y_train, \n",
    "                                 cv=split2,\n",
    "                                 scoring=\"accuracy\",\n",
    "                                 n_jobs=-1)\n",
    "    # output:\n",
    "    mean_score = round(np.mean(cv_results), 4)\n",
    "    std_dev = round(np.std(cv_results), 4)\n",
    "    print(f\"{name} cross validation accuarcy score: {mean_score} +/- {std_dev}\")\n"
   ]
  },
  {
   "cell_type": "code",
   "execution_count": null,
   "metadata": {},
   "outputs": [],
   "source": []
  },
  {
   "cell_type": "code",
   "execution_count": null,
   "metadata": {},
   "outputs": [],
   "source": []
  },
  {
   "cell_type": "code",
   "execution_count": 17,
   "metadata": {
    "scrolled": true
   },
   "outputs": [],
   "source": [
    "# ## Logistic Regression\n",
    "\n",
    "# logreg = LogisticRegression(random_state=42,n_jobs=-1)\n",
    "\n",
    "# logreg.fit(X_train, y_train)\n",
    "# y_pred = logreg.predict(X_test)\n",
    "\n",
    "\n",
    "# from sklearn import metrics\n",
    "# print(metrics.accuracy_score(y_test, y_pred))\n",
    "# print(metrics.confusion_matrix(y_test, y_pred))\n",
    "# print(metrics.classification_report(y_test, y_pred))"
   ]
  },
  {
   "cell_type": "code",
   "execution_count": 18,
   "metadata": {},
   "outputs": [],
   "source": [
    "# ## Decision Tree\n",
    "# from sklearn.tree import DecisionTreeClassifier\n",
    "# dt =DecisionTreeClassifier()\n",
    "\n",
    "# dt.fit(X_train, y_train)\n",
    "# y_pred = dt.predict(X_test)\n",
    "\n",
    "\n",
    "# from sklearn import metrics\n",
    "# print(metrics.accuracy_score(y_test, y_pred))\n",
    "# print(metrics.confusion_matrix(y_test, y_pred))\n",
    "# # print(metrics.classification_report(y_test, y_pred))"
   ]
  },
  {
   "cell_type": "code",
   "execution_count": null,
   "metadata": {},
   "outputs": [],
   "source": [
    "# ## Naive Bayes\n",
    "# # GaussianNB implements the Gaussian Naive Bayes algorithm for classification.\n",
    "# from sklearn.naive_bayes import GaussianNB\n",
    "# gnb_pipe = make_pipeline(column_trans, GaussianNB())\n",
    "\n",
    "# gnb_pipe.fit(X_train, y_train)\n",
    "# y_pred = gnb_pipe.predict(X_test)\n",
    "\n",
    "# from sklearn import metrics\n",
    "# print(metrics.confusion_matrix(y_test, y_pred))\n",
    "# print(metrics.classification_report(y_test, y_pred))"
   ]
  },
  {
   "cell_type": "code",
   "execution_count": null,
   "metadata": {},
   "outputs": [],
   "source": [
    "# ## Support Vector Machines\n",
    "# from sklearn import svm\n",
    "# svm_SVC_pipe = make_pipeline(column_trans, svm.SVC(kernel='linear')) # Linear Kernel for now\n",
    "\n",
    "# svm_SVC_pipe.fit(X_train, y_train)\n",
    "# y_pred = svm_SVC_pipe.predict(X_test)\n",
    "\n",
    "\n",
    "# from sklearn import metrics\n",
    "# print(metrics.accuracy_score(y_test, y_pred))\n",
    "# print(metrics.confusion_matrix(y_test, y_pred))\n",
    "# print(metrics.classification_report(y_test, y_pred))"
   ]
  },
  {
   "cell_type": "code",
   "execution_count": null,
   "metadata": {},
   "outputs": [],
   "source": [
    "# ## Neural Networks\n",
    "# from sklearn.neural_network import MLPClassifier\n",
    "# MLP_pipe = make_pipeline(column_trans, MLPClassifier(hidden_layer_sizes=(13,13,13), max_iter=500))\n",
    "\n",
    "# MLP_pipe.fit(X_train, y_train)\n",
    "# y_pred = MLP_pipe.predict(X_test)\n",
    "\n",
    "\n",
    "# from sklearn import metrics\n",
    "# print(metrics.accuracy_score(y_test, y_pred))\n",
    "# print(metrics.confusion_matrix(y_test, y_pred))\n",
    "# print(metrics.classification_report(y_test, y_pred))"
   ]
  },
  {
   "cell_type": "markdown",
   "metadata": {},
   "source": [
    "## Using a grid search"
   ]
  },
  {
   "cell_type": "code",
   "execution_count": 9,
   "metadata": {},
   "outputs": [],
   "source": [
    "\n",
    "from sklearn.model_selection import GridSearchCV\n",
    "\n",
    "# https://scikit-learn.org/stable/modules/generated/sklearn.model_selection.GridSearchCV.html"
   ]
  },
  {
   "cell_type": "code",
   "execution_count": 10,
   "metadata": {},
   "outputs": [],
   "source": [
    "param_grid = {\n",
    "    'logisticregression__C': [0.1, 1.0, 1.0],\n",
    "    }"
   ]
  },
  {
   "cell_type": "code",
   "execution_count": null,
   "metadata": {},
   "outputs": [],
   "source": [
    "grid_clf = GridSearchCV(logreg_pipe, param_grid, cv=10, iid=False)\n",
    "grid_clf.fit(X_train, y_train);\n",
    "\n",
    "grid_clf.best_params_"
   ]
  },
  {
   "cell_type": "code",
   "execution_count": null,
   "metadata": {},
   "outputs": [],
   "source": [
    "print(\"best logistic regression from grid search: %f\" % grid_clf.best_estimator_.score(X_test, y_test))"
   ]
  },
  {
   "cell_type": "code",
   "execution_count": null,
   "metadata": {},
   "outputs": [],
   "source": []
  },
  {
   "cell_type": "code",
   "execution_count": null,
   "metadata": {},
   "outputs": [],
   "source": []
  },
  {
   "cell_type": "code",
   "execution_count": null,
   "metadata": {},
   "outputs": [],
   "source": []
  },
  {
   "cell_type": "code",
   "execution_count": null,
   "metadata": {},
   "outputs": [],
   "source": []
  },
  {
   "cell_type": "code",
   "execution_count": null,
   "metadata": {},
   "outputs": [],
   "source": []
  }
 ],
 "metadata": {
  "kernelspec": {
   "display_name": "Python 3",
   "language": "python",
   "name": "python3"
  },
  "language_info": {
   "codemirror_mode": {
    "name": "ipython",
    "version": 3
   },
   "file_extension": ".py",
   "mimetype": "text/x-python",
   "name": "python",
   "nbconvert_exporter": "python",
   "pygments_lexer": "ipython3",
   "version": "3.7.4"
  }
 },
 "nbformat": 4,
 "nbformat_minor": 4
}
